{
 "cells": [
  {
   "cell_type": "markdown",
   "id": "ac26a057",
   "metadata": {},
   "source": [
    "# S03 T03 EStructuras de control\n",
    "## Exercici 1"
   ]
  },
  {
   "cell_type": "code",
   "execution_count": 1,
   "id": "f9eb0481",
   "metadata": {},
   "outputs": [
    {
     "name": "stdout",
     "output_type": "stream",
     "text": [
      "Ingrese una nota del 1 al 10: 5\n",
      "Aprovat\n"
     ]
    }
   ],
   "source": [
    "# clasificar una variable numérica en función a la escala: Suspès/Aprovat/Notable/Excel·lent\n",
    "\n",
    "nota = float(input('Ingrese una nota del 1 al 10: '))\n",
    "\n",
    "if nota < 5:\n",
    "    print('Suspès')\n",
    "elif nota >= 5 and nota < 8:\n",
    "    print('Aprovat')\n",
    "elif nota >= 8 and nota < 9:    \n",
    "    print('Notable')\n",
    "else:\n",
    "    print('Excel·lent')\n"
   ]
  },
  {
   "cell_type": "markdown",
   "id": "7880d446",
   "metadata": {},
   "source": [
    "## Exercici 2"
   ]
  },
  {
   "cell_type": "code",
   "execution_count": 2,
   "id": "1eea0e90",
   "metadata": {},
   "outputs": [
    {
     "name": "stdout",
     "output_type": "stream",
     "text": [
      "Ingrese el primer número: 6.5\n",
      "Ingrese el segundo número: 8\n",
      "El nro 6.5 es menor a 8.0\n"
     ]
    }
   ],
   "source": [
    "# Ingresar dos números por teclado y decir cuál es el más grande\n",
    "nro1 = float(input('Ingrese el primer número: '))\n",
    "nro2 = float(input('Ingrese el segundo número: '))\n",
    "\n",
    "if nro1 > nro2:\n",
    "    print('El nro {} es mayor a {}'.format(nro1,nro2))\n",
    "elif nro1< nro2:\n",
    "    print('El nro {} es menor a {}'.format(nro1,nro2))\n",
    "else:\n",
    "    print('Los números son iguales')"
   ]
  },
  {
   "cell_type": "markdown",
   "id": "63f98a21",
   "metadata": {},
   "source": [
    "## Exercici 3"
   ]
  },
  {
   "cell_type": "code",
   "execution_count": 3,
   "id": "5dd8be6e",
   "metadata": {},
   "outputs": [
    {
     "name": "stdout",
     "output_type": "stream",
     "text": [
      "Ingrese su nombre: Cecilia\n",
      "Ingrese un nro entero: 6\n",
      "Cecilia Cecilia Cecilia Cecilia Cecilia Cecilia \n",
      "Cecilia Cecilia Cecilia Cecilia Cecilia Cecilia "
     ]
    }
   ],
   "source": [
    "# Ingresar un nombre y un nro. Repetir el nombre tantas veces como indique el nro\n",
    "nombre = input('Ingrese su nombre: ')\n",
    "nro = int(input('Ingrese un nro entero: '))\n",
    "\n",
    "# si ingresan 0 doy un error\n",
    "if nro == 0:\n",
    "    print('El número no puede ser 0')\n",
    "else:\n",
    "    print((nombre + \" \") * nro)\n",
    "    \n",
    "    # otra forma de hacerlo con una estructura de control\n",
    "    for i in range(nro):\n",
    "        print(nombre, end = \" \")\n"
   ]
  },
  {
   "cell_type": "markdown",
   "id": "959baa87",
   "metadata": {},
   "source": [
    "## Exercici 4"
   ]
  },
  {
   "cell_type": "code",
   "execution_count": 4,
   "id": "fd4bf93f",
   "metadata": {},
   "outputs": [
    {
     "name": "stdout",
     "output_type": "stream",
     "text": [
      "True True\n",
      "False True\n",
      "True False\n",
      "True\n"
     ]
    }
   ],
   "source": [
    "# determinar si una lista es simétrica\n",
    "\n",
    "# defino una función recursiva para saber si una lista es simétrica\n",
    "def es_sim(lista):\n",
    "    if len(lista) == 1:\n",
    "        return True\n",
    "    elif len(lista) == 2:\n",
    "        if lista[0] == lista[1]:\n",
    "            return True\n",
    "        else:\n",
    "            return False\n",
    "    elif lista[0] == lista[len(lista)-1]:\n",
    "        return es_sim(lista[1:(len(lista)-1)])\n",
    "    else:\n",
    "        return False\n",
    "\n",
    "# defino las listas para las pruebas\n",
    "l1 = [1,2,3,4,5,4,3,2,1]\n",
    "l2 = ['a',2,3,4,4,3,2,'a']\n",
    "l3 = [1,2,3,4,5]\n",
    "l4 = ['Pepe', 'Juan', 'Pepe']\n",
    "l5 = [3]\n",
    "l6 = ['Ana','Paula']\n",
    "l7 = [2,2]\n",
    "\n",
    "# llamo a la función e imprimo los resultados\n",
    "print(es_sim(l1),es_sim(l2))\n",
    "print(es_sim(l3),es_sim(l4))\n",
    "print(es_sim(l5),es_sim(l6))\n",
    "print(es_sim(l7))"
   ]
  },
  {
   "cell_type": "markdown",
   "id": "f25f9ec3",
   "metadata": {},
   "source": [
    "## Exercici 5"
   ]
  },
  {
   "cell_type": "code",
   "execution_count": 5,
   "id": "d2ce2386",
   "metadata": {},
   "outputs": [
    {
     "name": "stdout",
     "output_type": "stream",
     "text": [
      "La lista es:  [5, 2, 1, 9, 0, 5, 4, 1, 5, 5]\n",
      "El 5 coincide con su posición\n"
     ]
    }
   ],
   "source": [
    "# Decir cuales números de un lista coinciden con su posición\n",
    "\n",
    "# genero una lista de 10 nros al azar (de 0 a 9)\n",
    "import random\n",
    "\n",
    "l1 = []\n",
    "for i in range(0, 10):\n",
    "    l1.append(random.randint(0, 9))\n",
    "\n",
    "print('La lista es: ', l1)\n",
    "\n",
    "for i in range(len(l1)):\n",
    "    if l1[i] == i:\n",
    "        print('El {} coincide con su posición'.format(i))\n",
    "        "
   ]
  },
  {
   "cell_type": "code",
   "execution_count": null,
   "id": "b536a694",
   "metadata": {},
   "outputs": [],
   "source": []
  }
 ],
 "metadata": {
  "kernelspec": {
   "display_name": "Python 3",
   "language": "python",
   "name": "python3"
  },
  "language_info": {
   "codemirror_mode": {
    "name": "ipython",
    "version": 3
   },
   "file_extension": ".py",
   "mimetype": "text/x-python",
   "name": "python",
   "nbconvert_exporter": "python",
   "pygments_lexer": "ipython3",
   "version": "3.8.8"
  }
 },
 "nbformat": 4,
 "nbformat_minor": 5
}
